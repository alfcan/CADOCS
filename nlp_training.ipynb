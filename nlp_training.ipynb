{
  "cells": [
    {
      "cell_type": "markdown",
      "source": [
        "Firstly, we install the dependencies for the Rasa package, which will handle the NLP model.\n",
        "\n",
        "The second step is to download the language from Spacy, in our case the english dictionary."
      ],
      "metadata": {
        "id": "ml2EfRbsInmV"
      }
    },
    {
      "cell_type": "code",
      "execution_count": null,
      "metadata": {
        "id": "tMV-zPCtGMlc"
      },
      "outputs": [],
      "source": [
        "!pip install tensorflow\n",
        "#Rasa NLU\n",
        "!pip install rasa_nlu[spacy]\n",
        "#Rasa Core\n",
        "!pip install -U rasa_core\n",
        "#Language Model\n",
        "!python -m spacy download en_core_web_md\n",
        "!python -m spacy link en_core_web_md en --force;"
      ]
    },
    {
      "cell_type": "markdown",
      "source": [
        "Next we import some basic Python packages and set-up the notebook."
      ],
      "metadata": {
        "id": "DaDjZ150I8rV"
      }
    },
    {
      "cell_type": "code",
      "source": [
        "%matplotlib inline\n",
        "\n",
        "import logging, io, json, warnings\n",
        "logging.basicConfig(level=\"INFO\")\n",
        "warnings.filterwarnings('ignore')\n",
        "import sys, os\n",
        "import pandas as pd\n"
      ],
      "metadata": {
        "id": "673ArX1AJVJv"
      },
      "execution_count": 4,
      "outputs": []
    },
    {
      "cell_type": "markdown",
      "source": [
        "And then we import the previously-downloaded modules."
      ],
      "metadata": {
        "id": "hw-bRkpyJvlw"
      }
    },
    {
      "cell_type": "code",
      "source": [
        "import rasa_nlu\n",
        "import rasa_core\n",
        "import spacy"
      ],
      "metadata": {
        "id": "5RbnHvJtH89h"
      },
      "execution_count": null,
      "outputs": []
    },
    {
      "cell_type": "code",
      "source": [
        "from google.colab import drive\n",
        "drive.mount('/content/drive')\n",
        "path = os.path.join(os.getcwd(), \"drive\", \"My Drive\", \"Colab Notebooks\", \"cadocs\")\n"
      ],
      "metadata": {
        "colab": {
          "base_uri": "https://localhost:8080/"
        },
        "id": "qa5A3TRFRoTV",
        "outputId": "73c57acc-5864-44ae-a276-7174f257dc4e"
      },
      "execution_count": 9,
      "outputs": [
        {
          "output_type": "stream",
          "name": "stdout",
          "text": [
            "Drive already mounted at /content/drive; to attempt to forcibly remount, call drive.mount(\"/content/drive\", force_remount=True).\n"
          ]
        }
      ]
    },
    {
      "cell_type": "markdown",
      "source": [
        "This function handles the creation of a yaml or md file (necessary for the rasa training) starting from the dataset (as a cvs file)"
      ],
      "metadata": {
        "id": "yBrnn4dOdbNW"
      }
    },
    {
      "cell_type": "code",
      "source": [
        "df = pd.read_csv(os.path.join(path, \"survey.csv\"), sep=\",\", header=None)\n",
        "\n",
        "#def create_training_data_yaml():\n",
        "#  qs1 = df[2][1:]\n",
        "#  qs2 = df[3][1:]\n",
        "#  qs3 = df[4][1:]\n",
        "#  qs4 = df[5][1:]\n",
        "#  with open(os.path.join(path, \"nlu.yaml\"), \"wt\", encoding=\"utf-8\") as f:\n",
        "#    f.write('version: \"3.0\"\\n')\n",
        "#    f.write(\"nlu: \\n- intent: get_smells\\n  examples: | \\n\")\n",
        "#    for q in qs1:\n",
        "#      f.write(f\"    - {q}\\n\")\n",
        "#    f.write(\"\\n- intent: get_smells_date\\n  examples: | \\n\")\n",
        "#    for q in qs2:\n",
        "#      f.write(f\"    - {q}\\n\")\n",
        "#    f.write(\"\\n- intent: report\\n  examples: | \\n\")\n",
        "#    for q in qs3:\n",
        "#      f.write(f\"    - {q}\\n\")\n",
        "#    f.write(\"\\n- intent: info\\n  examples: | \\n\")\n",
        "#    for q in qs4:\n",
        "#      f.write(f\"    - {q}\\n\")\n",
        "\n",
        "def create_training_data_md():\n",
        "  qs1 = df[2][1:27]\n",
        "  qs2 = df[3][1:27]\n",
        "  qs3 = df[4][1:27]\n",
        "  qs4 = df[5][1:27]\n",
        "  with open(os.path.join(path, \"nlu.md\"), \"wt\", encoding=\"utf-8\") as f:\n",
        "    f.write(\"## intent: get_smells\\n\")\n",
        "    for q in qs1:\n",
        "      f.write(f\"- {q}\\n\")\n",
        "    f.write(\"## intent: get_smells_date\\n\")\n",
        "    for q in qs2:\n",
        "      f.write(f\"- {q}\\n\")\n",
        "    f.write(\"## intent: report\\n\")\n",
        "    for q in qs3:\n",
        "      f.write(f\"- {q}\\n\")\n",
        "    f.write(\"## intent: info\\n\")\n",
        "    for q in qs4:\n",
        "      f.write(f\"- {q}\\n\")\n",
        "  \n",
        "def create_test_data_md():\n",
        "  qs1 = df[2][27:]\n",
        "  qs2 = df[3][27:]\n",
        "  qs3 = df[4][27:]\n",
        "  qs4 = df[5][27:]\n",
        "  with open(os.path.join(path, \"nlu_test.md\"), \"wt\", encoding=\"utf-8\") as f:\n",
        "    f.write(\"## intent: get_smells\\n\")\n",
        "    for q in qs1:\n",
        "      f.write(f\"- {q}\\n\")\n",
        "    f.write(\"## intent: get_smells_date\\n\")\n",
        "    for q in qs2:\n",
        "      f.write(f\"- {q}\\n\")\n",
        "    f.write(\"## intent: report\\n\")\n",
        "    for q in qs3:\n",
        "      f.write(f\"- {q}\\n\")\n",
        "    f.write(\"## intent: info\\n\")\n",
        "    for q in qs4:\n",
        "      f.write(f\"- {q}\\n\")\n",
        "\n",
        "\n",
        "create_training_data_md()\n",
        "create_test_data_md()"
      ],
      "metadata": {
        "id": "tkUZTWmgZbSS"
      },
      "execution_count": 10,
      "outputs": []
    },
    {
      "cell_type": "markdown",
      "source": [
        "After having everything prepared, we can start training the NLU model"
      ],
      "metadata": {
        "id": "EniRJCdcL_Wg"
      }
    },
    {
      "cell_type": "code",
      "source": [
        "from rasa_nlu.training_data import load_data\n",
        "from rasa_nlu.config import RasaNLUModelConfig\n",
        "from rasa_nlu.model import Trainer\n",
        "from rasa_nlu import config\n",
        "\n",
        "\n",
        "\n",
        "# loading the nlu training samples\n",
        "training_data = load_data(os.path.join(path, \"nlu.md\"))\n",
        "\n",
        "# trainer to educate our pipeline\n",
        "trainer = Trainer(config.load(os.path.join(path, \"config.yml\")))\n",
        "\n",
        "# train the model!\n",
        "interpreter = trainer.train(training_data)\n",
        "\n",
        "# store it for future use\n",
        "model_directory = trainer.persist(os.path.join(path,\"models/nlu\"), fixed_model_name=\"current\")"
      ],
      "metadata": {
        "colab": {
          "base_uri": "https://localhost:8080/"
        },
        "id": "K94UmsjLMeHw",
        "outputId": "469bb2b6-095b-4c1c-8e31-3a8d8b0ac67a"
      },
      "execution_count": 11,
      "outputs": [
        {
          "output_type": "stream",
          "name": "stderr",
          "text": [
            "INFO:rasa_nlu.training_data.loading:Training data format of /content/drive/My Drive/Colab Notebooks/cadocs/nlu.md is md\n",
            "INFO:rasa_nlu.training_data.training_data:Training data stats: \n",
            "\t- intent examples: 104 (4 distinct intents)\n",
            "\t- Found intents: 'report', 'info', 'get_smells', 'get_smells_date'\n",
            "\t- entity examples: 0 (0 distinct entities)\n",
            "\t- found entities: \n",
            "\n",
            "INFO:rasa_nlu.utils.spacy_utils:Trying to load spacy model with name 'en'\n",
            "INFO:rasa_nlu.components:Added 'SpacyNLP' to component cache. Key 'SpacyNLP-en'.\n",
            "INFO:rasa_nlu.model:Starting to train component SpacyNLP\n",
            "INFO:rasa_nlu.model:Finished training component.\n",
            "INFO:rasa_nlu.model:Starting to train component SpacyTokenizer\n",
            "INFO:rasa_nlu.model:Finished training component.\n",
            "INFO:rasa_nlu.model:Starting to train component CRFEntityExtractor\n",
            "INFO:rasa_nlu.model:Finished training component.\n",
            "INFO:rasa_nlu.model:Starting to train component SpacyFeaturizer\n",
            "INFO:rasa_nlu.model:Finished training component.\n",
            "INFO:rasa_nlu.model:Starting to train component SklearnIntentClassifier\n",
            "[Parallel(n_jobs=1)]: Using backend SequentialBackend with 1 concurrent workers.\n"
          ]
        },
        {
          "output_type": "stream",
          "name": "stdout",
          "text": [
            "Fitting 5 folds for each of 6 candidates, totalling 30 fits\n"
          ]
        },
        {
          "output_type": "stream",
          "name": "stderr",
          "text": [
            "[Parallel(n_jobs=1)]: Done  30 out of  30 | elapsed:    0.5s finished\n",
            "INFO:rasa_nlu.model:Finished training component.\n",
            "INFO:rasa_nlu.model:Starting to train component EntitySynonymMapper\n",
            "INFO:rasa_nlu.model:Finished training component.\n",
            "INFO:rasa_nlu.model:Successfully saved model into '/content/drive/My Drive/Colab Notebooks/cadocs/models/nlu/default/current'\n"
          ]
        }
      ]
    },
    {
      "cell_type": "code",
      "source": [
        "def pprint(o):   \n",
        "    print(json.dumps(o, indent=2))\n",
        "    \n",
        "pprint(interpreter.parse(\"hello CADOCS, show me the community smells in the repository LINK\"))"
      ],
      "metadata": {
        "colab": {
          "base_uri": "https://localhost:8080/"
        },
        "id": "Pph_oZQLTi-_",
        "outputId": "caa9b29f-ece2-4a10-b2a4-1d1d97784e44"
      },
      "execution_count": 12,
      "outputs": [
        {
          "output_type": "stream",
          "name": "stdout",
          "text": [
            "{\n",
            "  \"intent\": {\n",
            "    \"name\": \"get_smells\",\n",
            "    \"confidence\": 0.8259862498341506\n",
            "  },\n",
            "  \"entities\": [],\n",
            "  \"intent_ranking\": [\n",
            "    {\n",
            "      \"name\": \"get_smells\",\n",
            "      \"confidence\": 0.8259862498341506\n",
            "    },\n",
            "    {\n",
            "      \"name\": \"get_smells_date\",\n",
            "      \"confidence\": 0.13460856349831388\n",
            "    },\n",
            "    {\n",
            "      \"name\": \"report\",\n",
            "      \"confidence\": 0.027669880807374043\n",
            "    },\n",
            "    {\n",
            "      \"name\": \"info\",\n",
            "      \"confidence\": 0.011735305860161666\n",
            "    }\n",
            "  ],\n",
            "  \"text\": \"hello CADOCS, show me the community smells in the repository LINK\"\n",
            "}\n"
          ]
        }
      ]
    },
    {
      "cell_type": "code",
      "source": [
        "from rasa_nlu.test import run_evaluation\n",
        "run_evaluation(os.path.join(path, \"nlu_test.md\"), model_directory)"
      ],
      "metadata": {
        "colab": {
          "base_uri": "https://localhost:8080/"
        },
        "id": "S4BoemA9iZcn",
        "outputId": "ea024f6f-37f7-4eb1-cd83-e8cb36f90f8d"
      },
      "execution_count": 17,
      "outputs": [
        {
          "output_type": "stream",
          "name": "stdout",
          "text": [
            "/content/drive/My Drive/Colab Notebooks/cadocs/models/nlu/default/current\n"
          ]
        },
        {
          "output_type": "stream",
          "name": "stderr",
          "text": [
            "INFO:rasa_nlu.components:Added 'SpacyNLP' to component cache. Key 'SpacyNLP-en'.\n",
            "INFO:rasa_nlu.training_data.loading:Training data format of /content/drive/My Drive/Colab Notebooks/cadocs/nlu_test.md is md\n",
            "INFO:rasa_nlu.training_data.training_data:Training data stats: \n",
            "\t- intent examples: 40 (4 distinct intents)\n",
            "\t- Found intents: 'report', 'info', 'get_smells', 'get_smells_date'\n",
            "\t- entity examples: 0 (0 distinct entities)\n",
            "\t- found entities: \n",
            "\n",
            "INFO:rasa_nlu.test:Running model for predictions:\n",
            "100%|██████████| 40/40 [00:00<00:00, 78.60it/s]\n",
            "INFO:rasa_nlu.test:Intent evaluation results:\n",
            "INFO:rasa_nlu.test:Intent Evaluation: Only considering those 40 examples that have a defined intent out of 40 examples\n",
            "INFO:rasa_nlu.test:F1-Score:  0.95\n",
            "INFO:rasa_nlu.test:Precision: 0.95\n",
            "INFO:rasa_nlu.test:Accuracy:  0.95\n",
            "INFO:rasa_nlu.test:Classification report: \n",
            "                 precision    recall  f1-score   support\n",
            "\n",
            "     get_smells       0.90      0.90      0.90        10\n",
            "get_smells_date       0.90      0.90      0.90        10\n",
            "           info       1.00      1.00      1.00        10\n",
            "         report       1.00      1.00      1.00        10\n",
            "\n",
            "      micro avg       0.95      0.95      0.95        40\n",
            "      macro avg       0.95      0.95      0.95        40\n",
            "   weighted avg       0.95      0.95      0.95        40\n",
            "\n",
            "INFO:rasa_nlu.test:Model prediction errors saved to errors.json.\n",
            "INFO:rasa_nlu.test:Entity evaluation results:\n",
            "INFO:rasa_nlu.test:Evaluation for entity extractor: CRFEntityExtractor \n",
            "INFO:rasa_nlu.test:F1-Score:  1.0\n",
            "INFO:rasa_nlu.test:Precision: 1.0\n",
            "INFO:rasa_nlu.test:Accuracy:  1.0\n",
            "INFO:rasa_nlu.test:Classification report: \n",
            "              precision    recall  f1-score   support\n",
            "\n",
            "   no_entity       1.00      1.00      1.00       516\n",
            "\n",
            "   micro avg       1.00      1.00      1.00       516\n",
            "   macro avg       1.00      1.00      1.00       516\n",
            "weighted avg       1.00      1.00      1.00       516\n",
            "\n"
          ]
        },
        {
          "output_type": "execute_result",
          "data": {
            "text/plain": [
              "{'entity_evaluation': {'CRFEntityExtractor': {'accuracy': 1.0,\n",
              "   'f1_score': 1.0,\n",
              "   'precision': 1.0,\n",
              "   'report': '              precision    recall  f1-score   support\\n\\n   no_entity       1.00      1.00      1.00       516\\n\\n   micro avg       1.00      1.00      1.00       516\\n   macro avg       1.00      1.00      1.00       516\\nweighted avg       1.00      1.00      1.00       516\\n'}},\n",
              " 'intent_evaluation': {'accuracy': 0.95,\n",
              "  'f1_score': 0.95,\n",
              "  'precision': 0.95,\n",
              "  'predictions': [{'confidence': 0.9712965206916684,\n",
              "    'intent': 'get_smells',\n",
              "    'predicted': 'get_smells',\n",
              "    'text': 'hi, what are the community smells in the LINK project'},\n",
              "   {'confidence': 0.8639295510787667,\n",
              "    'intent': 'get_smells',\n",
              "    'predicted': 'get_smells',\n",
              "    'text': 'Hey CADOCS, can you tell which community smells are present in the repository LINK please?'},\n",
              "   {'confidence': 0.8030240404633286,\n",
              "    'intent': 'get_smells',\n",
              "    'predicted': 'get_smells',\n",
              "    'text': 'Hi CADOCS, wich community are present in this repository LINK?'},\n",
              "   {'confidence': 0.710407196364498,\n",
              "    'intent': 'get_smells',\n",
              "    'predicted': 'get_smells',\n",
              "    'text': 'Hi, do you know what are the community smells in LINK repo?'},\n",
              "   {'confidence': 0.9473247039910603,\n",
              "    'intent': 'get_smells',\n",
              "    'predicted': 'get_smells',\n",
              "    'text': 'hi, are there community smells in the LINK project??'},\n",
              "   {'confidence': 0.9132800310266915,\n",
              "    'intent': 'get_smells',\n",
              "    'predicted': 'get_smells',\n",
              "    'text': 'Hey CADOCS, what are the community smells in the repository LINK please?'},\n",
              "   {'confidence': 0.8635707339652133,\n",
              "    'intent': 'get_smells',\n",
              "    'predicted': 'get_smells',\n",
              "    'text': 'Hello CADOCS, can you tell which community smells are present in the repository LINK please?'},\n",
              "   {'confidence': 0.46263655797357045,\n",
              "    'intent': 'get_smells',\n",
              "    'predicted': 'get_smells_date',\n",
              "    'text': 'Hey CADOCS, could you check if the repository at this LINK has community smells please?'},\n",
              "   {'confidence': 0.7332067099612459,\n",
              "    'intent': 'get_smells',\n",
              "    'predicted': 'get_smells',\n",
              "    'text': 'Hi CADOCS, could you check which community smells are present in the LINK project?'},\n",
              "   {'confidence': 0.9834621390640039,\n",
              "    'intent': 'get_smells',\n",
              "    'predicted': 'get_smells',\n",
              "    'text': 'What are the community smells in the LINK project?'},\n",
              "   {'confidence': 0.880406736994369,\n",
              "    'intent': 'get_smells_date',\n",
              "    'predicted': 'get_smells_date',\n",
              "    'text': 'hi, what are the community smells in the LINK project starting from 12/19/2021??'},\n",
              "   {'confidence': 0.9028289016406619,\n",
              "    'intent': 'get_smells_date',\n",
              "    'predicted': 'get_smells_date',\n",
              "    'text': 'Hi, what are the community smells in the LINK Project starting from 12/19/2021?'},\n",
              "   {'confidence': 0.9505865132448258,\n",
              "    'intent': 'get_smells_date',\n",
              "    'predicted': 'get_smells_date',\n",
              "    'text': 'Hi CADOCS witch community smells are in this repository LINK from 05/06/2022'},\n",
              "   {'confidence': 0.8865381196199275,\n",
              "    'intent': 'get_smells_date',\n",
              "    'predicted': 'get_smells_date',\n",
              "    'text': 'Hi, i need all the community smells in LINK project after 31/12/2000'},\n",
              "   {'confidence': 0.7357771375215498,\n",
              "    'intent': 'get_smells_date',\n",
              "    'predicted': 'get_smells',\n",
              "    'text': 'can you tell which community smells are present in the repository LINK defore 03/23/2020?'},\n",
              "   {'confidence': 0.9071020117169198,\n",
              "    'intent': 'get_smells_date',\n",
              "    'predicted': 'get_smells_date',\n",
              "    'text': 'Hey CADOCS, what are the community smells in the repository LINK project starting from 26/11/1999?'},\n",
              "   {'confidence': 0.6784041520965812,\n",
              "    'intent': 'get_smells_date',\n",
              "    'predicted': 'get_smells_date',\n",
              "    'text': '\"Hello, what are the community smells in the LINK project date 12/12/20? Thanks in advance\"'},\n",
              "   {'confidence': 0.8017643113534607,\n",
              "    'intent': 'get_smells_date',\n",
              "    'predicted': 'get_smells_date',\n",
              "    'text': 'Hey CADOCS, could you check if the repository at this LINK has community smells, starting from 01/05/2020 please?'},\n",
              "   {'confidence': 0.9515432847673411,\n",
              "    'intent': 'get_smells_date',\n",
              "    'predicted': 'get_smells_date',\n",
              "    'text': 'hi CADOCS, could you check which smells of the community are present in the LINK project starting from 22/02/2020'},\n",
              "   {'confidence': 0.8872714523496155,\n",
              "    'intent': 'get_smells_date',\n",
              "    'predicted': 'get_smells_date',\n",
              "    'text': 'What are the community smells in the LINK project after 03/04/2020?'},\n",
              "   {'confidence': 0.9350744608676744,\n",
              "    'intent': 'report',\n",
              "    'predicted': 'report',\n",
              "    'text': 'hello, show me information about your last execution.'},\n",
              "   {'confidence': 0.971959408592381,\n",
              "    'intent': 'report',\n",
              "    'predicted': 'report',\n",
              "    'text': 'I need a report if your last execution please'},\n",
              "   {'confidence': 0.9159995020153815,\n",
              "    'intent': 'report',\n",
              "    'predicted': 'report',\n",
              "    'text': 'Hi CADOCS give me the report of last execution'},\n",
              "   {'confidence': 0.98789413727481,\n",
              "    'intent': 'report',\n",
              "    'predicted': 'report',\n",
              "    'text': 'Hi, show me last execution report'},\n",
              "   {'confidence': 0.828754141153565,\n",
              "    'intent': 'report',\n",
              "    'predicted': 'report',\n",
              "    'text': 'I, tell me somethings  about your last execution'},\n",
              "   {'confidence': 0.8911001156689415,\n",
              "    'intent': 'report',\n",
              "    'predicted': 'report',\n",
              "    'text': 'Hey CADOCS, I need a report of your last execution please'},\n",
              "   {'confidence': 0.8460145060442203,\n",
              "    'intent': 'report',\n",
              "    'predicted': 'report',\n",
              "    'text': 'Hello, i need a report of your last task execution. Thanks in advance'},\n",
              "   {'confidence': 0.9048583589491207,\n",
              "    'intent': 'report',\n",
              "    'predicted': 'report',\n",
              "    'text': 'hello CADOCS, please give me a report about your last execution!'},\n",
              "   {'confidence': 0.9689487460814834,\n",
              "    'intent': 'report',\n",
              "    'predicted': 'report',\n",
              "    'text': 'Could you give me a report on your last execution?'},\n",
              "   {'confidence': 0.9390248082285673,\n",
              "    'intent': 'report',\n",
              "    'predicted': 'report',\n",
              "    'text': 'Give me a report of your lady execution.'},\n",
              "   {'confidence': 0.9716946232146813,\n",
              "    'intent': 'info',\n",
              "    'predicted': 'info',\n",
              "    'text': 'hey CADOCS i wanna know more about community smells'},\n",
              "   {'confidence': 0.9612485425257825,\n",
              "    'intent': 'info',\n",
              "    'predicted': 'info',\n",
              "    'text': 'What kind of community smells can you detect?'},\n",
              "   {'confidence': 0.6375477362027255,\n",
              "    'intent': 'info',\n",
              "    'predicted': 'info',\n",
              "    'text': 'Hi CADOCS show me all kind of community you detect'},\n",
              "   {'confidence': 0.946207276746142,\n",
              "    'intent': 'info',\n",
              "    'predicted': 'info',\n",
              "    'text': 'Hi, do you know what are community smells?'},\n",
              "   {'confidence': 0.914732895341538,\n",
              "    'intent': 'info',\n",
              "    'predicted': 'info',\n",
              "    'text': 'hey CADOCS tell me somethings  about community smells'},\n",
              "   {'confidence': 0.9425462493793919,\n",
              "    'intent': 'info',\n",
              "    'predicted': 'info',\n",
              "    'text': 'Hey CADOCS, what kind of community smells can you detect?'},\n",
              "   {'confidence': 0.9264530231788546,\n",
              "    'intent': 'info',\n",
              "    'predicted': 'info',\n",
              "    'text': 'I wanna know more about community smells, it seems interesting'},\n",
              "   {'confidence': 0.8301470891540101,\n",
              "    'intent': 'info',\n",
              "    'predicted': 'info',\n",
              "    'text': 'hey CADOCS, can you show me some informations about community smells that you can detect?'},\n",
              "   {'confidence': 0.9083701829079454,\n",
              "    'intent': 'info',\n",
              "    'predicted': 'info',\n",
              "    'text': 'Could you tell me more about community smells and which ones you can detect?'},\n",
              "   {'confidence': 0.8619929669456826,\n",
              "    'intent': 'info',\n",
              "    'predicted': 'info',\n",
              "    'text': 'CADOCS, What community smells have you detected?'}],\n",
              "  'report': '                 precision    recall  f1-score   support\\n\\n     get_smells       0.90      0.90      0.90        10\\nget_smells_date       0.90      0.90      0.90        10\\n           info       1.00      1.00      1.00        10\\n         report       1.00      1.00      1.00        10\\n\\n      micro avg       0.95      0.95      0.95        40\\n      macro avg       0.95      0.95      0.95        40\\n   weighted avg       0.95      0.95      0.95        40\\n'}}"
            ]
          },
          "metadata": {},
          "execution_count": 17
        }
      ]
    }
  ],
  "metadata": {
    "interpreter": {
      "hash": "7272de18651a09d7873b5e52e3241d091cabffdb4aa2e7cc041294c01112f6c2"
    },
    "kernelspec": {
      "display_name": "Python 3.8.3 64-bit",
      "language": "python",
      "name": "python3"
    },
    "language_info": {
      "name": "python",
      "version": "3.8.3"
    },
    "orig_nbformat": 4,
    "colab": {
      "name": "nlp_training.ipynb",
      "provenance": [],
      "collapsed_sections": []
    }
  },
  "nbformat": 4,
  "nbformat_minor": 0
}