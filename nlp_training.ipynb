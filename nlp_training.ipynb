{
  "cells": [
    {
      "cell_type": "markdown",
      "source": [
        "Firstly, we install the dependencies for thr Rasa package, which will handle the NLP model.\n",
        "\n",
        "The second step is to download the language from Spacy, in our case the english dictionary."
      ],
      "metadata": {
        "id": "ml2EfRbsInmV"
      }
    },
    {
      "cell_type": "code",
      "execution_count": null,
      "metadata": {
        "id": "tMV-zPCtGMlc"
      },
      "outputs": [],
      "source": [
        "!pip install tensorflow\n",
        "#Rasa NLU\n",
        "!pip install rasa_nlu[spacy]\n",
        "#Rasa Core\n",
        "!pip install -U rasa_core\n",
        "#Language Model\n",
        "!python -m spacy download en_core_web_md\n",
        "!python -m spacy link en_core_web_md en --force;"
      ]
    },
    {
      "cell_type": "markdown",
      "source": [
        "Next we import some basic Python packages and set-up the notebook."
      ],
      "metadata": {
        "id": "DaDjZ150I8rV"
      }
    },
    {
      "cell_type": "code",
      "source": [
        "%matplotlib inline\n",
        "\n",
        "import logging, io, json, warnings\n",
        "logging.basicConfig(level=\"INFO\")\n",
        "warnings.filterwarnings('ignore')\n",
        "import sys, os\n",
        "import pandas as pd\n"
      ],
      "metadata": {
        "id": "673ArX1AJVJv"
      },
      "execution_count": 54,
      "outputs": []
    },
    {
      "cell_type": "markdown",
      "source": [
        "And then we import the previously-downloaded modules."
      ],
      "metadata": {
        "id": "hw-bRkpyJvlw"
      }
    },
    {
      "cell_type": "code",
      "source": [
        "import rasa_nlu\n",
        "import rasa_core\n",
        "import spacy"
      ],
      "metadata": {
        "id": "5RbnHvJtH89h"
      },
      "execution_count": null,
      "outputs": []
    },
    {
      "cell_type": "code",
      "source": [
        "from google.colab import drive\n",
        "drive.mount('/content/drive')"
      ],
      "metadata": {
        "colab": {
          "base_uri": "https://localhost:8080/"
        },
        "id": "qa5A3TRFRoTV",
        "outputId": "1255b4d1-26fb-47ef-e90c-b9f5b19705cd"
      },
      "execution_count": 32,
      "outputs": [
        {
          "output_type": "stream",
          "name": "stdout",
          "text": [
            "Mounted at /content/drive\n"
          ]
        }
      ]
    },
    {
      "cell_type": "markdown",
      "source": [
        "This function handles the creation of a yaml or md file (necessary for the rasa training) starting from the dataset (as a cvs file)"
      ],
      "metadata": {
        "id": "yBrnn4dOdbNW"
      }
    },
    {
      "cell_type": "code",
      "source": [
        "def create_training_data_yaml():\n",
        "  df = pd.read_csv(os.path.join(path, \"survey.csv\"), sep=\",\", header=None)\n",
        "  qs1 = df[2][1:]\n",
        "  qs2 = df[3][1:]\n",
        "  qs3 = df[4][1:]\n",
        "  qs4 = df[5][1:]\n",
        "  with open(os.path.join(path, \"nlu.yaml\"), \"wt\", encoding=\"utf-8\") as f:\n",
        "    f.write('version: \"3.0\"\\n')\n",
        "    f.write(\"nlu: \\n- intent: get_smells\\n  examples: | \\n\")\n",
        "    for q in qs1:\n",
        "      f.write(f\"    - {q}\\n\")\n",
        "    f.write(\"\\n- intent: get_smells_date\\n  examples: | \\n\")\n",
        "    for q in qs2:\n",
        "      f.write(f\"    - {q}\\n\")\n",
        "    f.write(\"\\n- intent: report\\n  examples: | \\n\")\n",
        "    for q in qs3:\n",
        "      f.write(f\"    - {q}\\n\")\n",
        "    f.write(\"\\n- intent: info\\n  examples: | \\n\")\n",
        "    for q in qs4:\n",
        "      f.write(f\"    - {q}\\n\")\n",
        "\n",
        "def create_training_data_md():\n",
        "  df = pd.read_csv(os.path.join(path, \"survey.csv\"), sep=\",\", header=None)\n",
        "  qs1 = df[2][1:]\n",
        "  qs2 = df[3][1:]\n",
        "  qs3 = df[4][1:]\n",
        "  qs4 = df[5][1:]\n",
        "  with open(os.path.join(path, \"nlu.md\"), \"wt\", encoding=\"utf-8\") as f:\n",
        "    f.write(\"## intent: get_smells\\n\")\n",
        "    for q in qs1:\n",
        "      f.write(f\"- {q}\\n\")\n",
        "    f.write(\"## intent: get_smells_date\\n\")\n",
        "    for q in qs2:\n",
        "      f.write(f\"- {q}\\n\")\n",
        "    f.write(\"## intent: report\\n\")\n",
        "    for q in qs3:\n",
        "      f.write(f\"- {q}\\n\")\n",
        "    f.write(\"## intent: info\\n\")\n",
        "    for q in qs4:\n",
        "      f.write(f\"- {q}\\n\")\n",
        "  \n",
        "create_training_data_md()"
      ],
      "metadata": {
        "id": "tkUZTWmgZbSS"
      },
      "execution_count": 70,
      "outputs": []
    },
    {
      "cell_type": "markdown",
      "source": [
        "After having everything prepared, we can start training the NLU model"
      ],
      "metadata": {
        "id": "EniRJCdcL_Wg"
      }
    },
    {
      "cell_type": "code",
      "source": [
        "from rasa_nlu.training_data import load_data\n",
        "from rasa_nlu.config import RasaNLUModelConfig\n",
        "from rasa_nlu.model import Trainer\n",
        "from rasa_nlu import config\n",
        "\n",
        "\n",
        "path = os.path.join(os.getcwd(), \"drive\", \"My Drive\", \"Colab Notebooks\", \"cadocs\")\n",
        "\n",
        "# loading the nlu training samples\n",
        "training_data = load_data(os.path.join(path, \"nlu.md\"))\n",
        "\n",
        "# trainer to educate our pipeline\n",
        "trainer = Trainer(config.load(os.path.join(path, \"config.yml\")))\n",
        "\n",
        "# train the model!\n",
        "interpreter = trainer.train(training_data)\n",
        "\n",
        "# store it for future use\n",
        "model_directory = trainer.persist(os.path.join(path,\"models/nlu\"), fixed_model_name=\"current\")"
      ],
      "metadata": {
        "colab": {
          "base_uri": "https://localhost:8080/"
        },
        "id": "K94UmsjLMeHw",
        "outputId": "ae1f0612-9f10-4796-99c9-02fa38093a2c"
      },
      "execution_count": 72,
      "outputs": [
        {
          "output_type": "stream",
          "name": "stderr",
          "text": [
            "INFO:rasa_nlu.training_data.loading:Training data format of /content/drive/My Drive/Colab Notebooks/cadocs/nlu.md is md\n",
            "INFO:rasa_nlu.training_data.training_data:Training data stats: \n",
            "\t- intent examples: 144 (4 distinct intents)\n",
            "\t- Found intents: 'get_smells', 'info', 'get_smells_date', 'report'\n",
            "\t- entity examples: 0 (0 distinct entities)\n",
            "\t- found entities: \n",
            "\n",
            "INFO:rasa_nlu.utils.spacy_utils:Trying to load spacy model with name 'en'\n",
            "INFO:rasa_nlu.components:Added 'SpacyNLP' to component cache. Key 'SpacyNLP-en'.\n",
            "INFO:rasa_nlu.model:Starting to train component SpacyNLP\n",
            "INFO:rasa_nlu.model:Finished training component.\n",
            "INFO:rasa_nlu.model:Starting to train component SpacyTokenizer\n",
            "INFO:rasa_nlu.model:Finished training component.\n",
            "INFO:rasa_nlu.model:Starting to train component CRFEntityExtractor\n",
            "INFO:rasa_nlu.model:Finished training component.\n",
            "INFO:rasa_nlu.model:Starting to train component SpacyFeaturizer\n",
            "INFO:rasa_nlu.model:Finished training component.\n",
            "INFO:rasa_nlu.model:Starting to train component SklearnIntentClassifier\n",
            "[Parallel(n_jobs=1)]: Using backend SequentialBackend with 1 concurrent workers.\n"
          ]
        },
        {
          "output_type": "stream",
          "name": "stdout",
          "text": [
            "Fitting 5 folds for each of 6 candidates, totalling 30 fits\n"
          ]
        },
        {
          "output_type": "stream",
          "name": "stderr",
          "text": [
            "[Parallel(n_jobs=1)]: Done  30 out of  30 | elapsed:    0.7s finished\n",
            "INFO:rasa_nlu.model:Finished training component.\n",
            "INFO:rasa_nlu.model:Starting to train component EntitySynonymMapper\n",
            "INFO:rasa_nlu.model:Finished training component.\n",
            "INFO:rasa_nlu.model:Successfully saved model into '/content/drive/My Drive/Colab Notebooks/cadocs/models/nlu/default/current'\n"
          ]
        }
      ]
    },
    {
      "cell_type": "code",
      "source": [
        "def pprint(o):   \n",
        "    print(json.dumps(o, indent=2))\n",
        "    \n",
        "pprint(interpreter.parse(\"hello CADOCS, show me the community smells in the repository LINK\"))"
      ],
      "metadata": {
        "colab": {
          "base_uri": "https://localhost:8080/"
        },
        "id": "Pph_oZQLTi-_",
        "outputId": "56ce90f9-945c-4b0c-ad6d-646cc4b67cce"
      },
      "execution_count": 73,
      "outputs": [
        {
          "output_type": "stream",
          "name": "stdout",
          "text": [
            "{\n",
            "  \"intent\": {\n",
            "    \"name\": \"get_smells\",\n",
            "    \"confidence\": 0.7352955598823949\n",
            "  },\n",
            "  \"entities\": [],\n",
            "  \"intent_ranking\": [\n",
            "    {\n",
            "      \"name\": \"get_smells\",\n",
            "      \"confidence\": 0.7352955598823949\n",
            "    },\n",
            "    {\n",
            "      \"name\": \"get_smells_date\",\n",
            "      \"confidence\": 0.23659214894215788\n",
            "    },\n",
            "    {\n",
            "      \"name\": \"report\",\n",
            "      \"confidence\": 0.01945754683728844\n",
            "    },\n",
            "    {\n",
            "      \"name\": \"info\",\n",
            "      \"confidence\": 0.008654744338158748\n",
            "    }\n",
            "  ],\n",
            "  \"text\": \"hello CADOCS, show me the community smells in the repository LINK\"\n",
            "}\n"
          ]
        }
      ]
    }
  ],
  "metadata": {
    "interpreter": {
      "hash": "7272de18651a09d7873b5e52e3241d091cabffdb4aa2e7cc041294c01112f6c2"
    },
    "kernelspec": {
      "display_name": "Python 3.8.3 64-bit",
      "language": "python",
      "name": "python3"
    },
    "language_info": {
      "name": "python",
      "version": "3.8.3"
    },
    "orig_nbformat": 4,
    "colab": {
      "name": "nlp_training.ipynb",
      "provenance": [],
      "collapsed_sections": []
    }
  },
  "nbformat": 4,
  "nbformat_minor": 0
}